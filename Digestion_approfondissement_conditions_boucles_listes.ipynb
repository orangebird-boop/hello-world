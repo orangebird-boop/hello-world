{
  "nbformat": 4,
  "nbformat_minor": 0,
  "metadata": {
    "kernelspec": {
      "display_name": "Python 3",
      "language": "python",
      "name": "python3"
    },
    "language_info": {
      "codemirror_mode": {
        "name": "ipython",
        "version": 3
      },
      "file_extension": ".py",
      "mimetype": "text/x-python",
      "name": "python",
      "nbconvert_exporter": "python",
      "pygments_lexer": "ipython3",
      "version": "3.6.9"
    },
    "colab": {
      "name": "1_Digestion_approfondissement_conditions_boucles_listes.ipynb",
      "provenance": [],
      "include_colab_link": true
    }
  },
  "cells": [
    {
      "cell_type": "markdown",
      "metadata": {
        "id": "view-in-github",
        "colab_type": "text"
      },
      "source": [
        "<a href=\"https://colab.research.google.com/github/orangebird-boop/hello-world/blob/master/Digestion_approfondissement_conditions_boucles_listes.ipynb\" target=\"_parent\"><img src=\"https://colab.research.google.com/assets/colab-badge.svg\" alt=\"Open In Colab\"/></a>"
      ]
    },
    {
      "cell_type": "markdown",
      "metadata": {
        "id": "8VQ_xWeSGq1U"
      },
      "source": [
        "Nous allons donc nous entrainer un peu sur toutes ces nouvelles notions que vous avez découvertes.\n",
        "\n",
        "Donc utilisez les notebooks/Lab précédents pour réaliser ces exercices"
      ]
    },
    {
      "cell_type": "markdown",
      "metadata": {
        "id": "ht071MvUGq1b"
      },
      "source": [
        "### Les variables"
      ]
    },
    {
      "cell_type": "markdown",
      "metadata": {
        "id": "oAgiEgm5Gq1c"
      },
      "source": [
        "Écrire un programme, qui définit 3 variables : \n",
        "- une variable de type texte, \n",
        "- une variable de type nombre entier \n",
        "- une variable de type nombre décimal et qui affiche leur type."
      ]
    },
    {
      "cell_type": "code",
      "metadata": {
        "colab": {
          "base_uri": "https://localhost:8080/"
        },
        "id": "pJ-uF2JWGq1d",
        "outputId": "a61db364-8caa-4c35-8b57-4e0e85fb9596"
      },
      "source": [
        "var1 = \" this is a text text text text test ;)\"\n",
        "var2 = 1966\n",
        "var3 = 10.898989\n",
        "print(type(var1),type(var2),type(var3))"
      ],
      "execution_count": null,
      "outputs": [
        {
          "output_type": "stream",
          "text": [
            "<class 'str'> <class 'int'> <class 'float'>\n"
          ],
          "name": "stdout"
        }
      ]
    },
    {
      "cell_type": "markdown",
      "metadata": {
        "id": "uMJL-c-sGq1e"
      },
      "source": [
        "Écrire un programme qui, à partir de la saisie d’un rayon, calcule le volume d’une sphère\n",
        "cône droit : V =4/3 × π × r × r × r\n",
        "\n"
      ]
    },
    {
      "cell_type": "code",
      "metadata": {
        "colab": {
          "base_uri": "https://localhost:8080/"
        },
        "id": "bnXzJl3yGq1e",
        "outputId": "39e28a8c-48ad-4d56-99e0-ac69f5799d58"
      },
      "source": [
        "r = int(input(\"Give me the rayon of the sphere :\"))\n",
        "V = 4/3*3.14*r*r*r\n",
        "print(V)"
      ],
      "execution_count": null,
      "outputs": [
        {
          "output_type": "stream",
          "text": [
            "Give me the rayon of the sphere :9\n",
            "3052.08\n"
          ],
          "name": "stdout"
        }
      ]
    },
    {
      "cell_type": "markdown",
      "metadata": {
        "id": "72TLDoGkGq1e"
      },
      "source": [
        "1. Affectez les variables temps et distance par les valeurs 19.3 et 200.\n",
        "- Calculez et affichez la valeur de la vitesse.\n",
        "- Améliorez l’affichage en imposant un chiffre après le point décimal (pensez à la methode round(nombre à arrondir, chiffre après la virgule))."
      ]
    },
    {
      "cell_type": "code",
      "metadata": {
        "colab": {
          "base_uri": "https://localhost:8080/"
        },
        "id": "BeB4ZV0HGq1g",
        "outputId": "110bad78-1eb9-4718-da5b-3da8404ff201"
      },
      "source": [
        "temps = 19.3\n",
        "distance = 200\n",
        "speed = distance/temps\n",
        "print(round(speed, 1))"
      ],
      "execution_count": null,
      "outputs": [
        {
          "output_type": "stream",
          "text": [
            "10.4\n"
          ],
          "name": "stdout"
        }
      ]
    },
    {
      "cell_type": "markdown",
      "metadata": {
        "id": "aqioj2AgGq1g"
      },
      "source": [
        "Écrire un script, qui ajoute une chaîne de caractères à un nombre entier \n",
        "(Exemple la chaîne ”le chat” et le nombre 3 pour donner le chat + 3).\n",
        "\n",
        "Pensez à str(3) pour rendre la somme de la chaine homogène en type"
      ]
    },
    {
      "cell_type": "code",
      "metadata": {
        "colab": {
          "base_uri": "https://localhost:8080/"
        },
        "id": "1FiH7GELGq1g",
        "outputId": "2095e09d-eaf7-4126-cac4-8d5c74fe2bbb"
      },
      "source": [
        "print(\"le chat \" + \"3\")"
      ],
      "execution_count": null,
      "outputs": [
        {
          "output_type": "stream",
          "text": [
            "le chat 3\n"
          ],
          "name": "stdout"
        }
      ]
    },
    {
      "cell_type": "markdown",
      "metadata": {
        "id": "r6z9ysnwGq1g"
      },
      "source": [
        "### Les conditions"
      ]
    },
    {
      "cell_type": "markdown",
      "metadata": {
        "id": "L9mh71GYGq1h"
      },
      "source": [
        "Écrire un programme qui demande de saisir 2 valeurs et qui affiche la plus petite des 2\n",
        "valeurs."
      ]
    },
    {
      "cell_type": "code",
      "metadata": {
        "colab": {
          "base_uri": "https://localhost:8080/"
        },
        "id": "iK1g9u0QGq1i",
        "outputId": "bc271c4f-342e-48f3-8c04-779cd75749c9"
      },
      "source": [
        "var1=int(input(\"Give me a number: \")))\n",
        "var2=int(input(\"Give me another number: \")))\n",
        "if var1<var2:\n",
        "  print(str(var1) + \" is the smaller number\")\n",
        "else:\n",
        "  print(str(var2) + \" is the smaller number\")"
      ],
      "execution_count": null,
      "outputs": [
        {
          "output_type": "stream",
          "text": [
            "Give me a number :84\n",
            "Give me another number :4\n",
            "4 is the smaller number\n"
          ],
          "name": "stdout"
        }
      ]
    },
    {
      "cell_type": "markdown",
      "metadata": {
        "id": "c5M686BdGq1i"
      },
      "source": [
        "Saisir deux mots, comparez-les pour trouver le « plus petit » (le moins long) et affichez le résultat."
      ]
    },
    {
      "cell_type": "code",
      "metadata": {
        "colab": {
          "base_uri": "https://localhost:8080/"
        },
        "id": "B-CMDnIGGq1i",
        "outputId": "66598732-41f7-465c-f24b-a2953e0aeb4d"
      },
      "source": [
        "var1=str(input(\"Give me a word: \"))\n",
        "var2=str(input(\"Give me another word: \"))\n",
        "if len(var1)<len(var2):\n",
        "  print(str(var1) + \" is the shortes word\")\n",
        "else:\n",
        "  print(str(var2) + \" is the shortest word\")\n"
      ],
      "execution_count": null,
      "outputs": [
        {
          "output_type": "stream",
          "text": [
            "Give me a word: non\n",
            "Give me another word: lololo\n",
            "non is the shortes word\n"
          ],
          "name": "stdout"
        }
      ]
    },
    {
      "cell_type": "markdown",
      "metadata": {
        "id": "sZEcf9-0Gq1i"
      },
      "source": [
        "Écrire un script qui demande de saisir 2 chaînes de caractères et qui affiche la\n",
        "plus grande des 2 chaînes (celle qui a le plus de caractères)."
      ]
    },
    {
      "cell_type": "code",
      "metadata": {
        "id": "JMd4E0imGq1j"
      },
      "source": [
        ""
      ],
      "execution_count": null,
      "outputs": []
    },
    {
      "cell_type": "markdown",
      "metadata": {
        "id": "xNeTOsBZGq1j"
      },
      "source": [
        "Écrire un script qui effectue une conversion euros en dollars.\n",
        "- Le programme commencera par demander à l’utilisateur d’indiquer par un caractère ’E’ ou ’$’ la devise du montant qu’il va entrer.\n",
        "- Puis le programme exécutera une action conditionnelle de la forme :"
      ]
    },
    {
      "cell_type": "code",
      "metadata": {
        "id": "RERnQLSwGq1k"
      },
      "source": [
        " choice=input(\"€ ou $\")\n",
        "\n",
        "conv_eur_doll=1.22\n",
        "conv_doll_eur=1/conv_eur_doll\n",
        "\n",
        "if choice==\"€\":\n",
        "  montant=float(input('veuillez saisir le montant à echanger'))\n",
        "  montant=montant*conv_eur_doll\n",
        "  print(\"Votre montant est de {} $\".format(montant))\n",
        "elif choice=='$':\n",
        "  montant=float(input('veuillez saisir le montant à echanger'))\n",
        "  montant=montant*conv_doll_eur\n",
        "  print(\"Votre montant est de {} €\".format(montant))\n",
        "else:\n",
        "  print(\"Nous n'avons rien compris\")\n",
        "\n"
      ],
      "execution_count": null,
      "outputs": []
    },
    {
      "cell_type": "markdown",
      "metadata": {
        "id": "ECK94mQRGq1k"
      },
      "source": [
        "### Les boucles"
      ]
    },
    {
      "cell_type": "markdown",
      "metadata": {
        "id": "kbPzRKdMGq1k"
      },
      "source": [
        " Écrire un programme, qui affiche 50 fois ”Je sais que c'est difficile mais je m'accroche et dans 1 mois je rigolerai de cette introduction à python” à l’aide de l’instruction for."
      ]
    },
    {
      "cell_type": "code",
      "metadata": {
        "id": "e-G96WbEGq1k",
        "colab": {
          "base_uri": "https://localhost:8080/"
        },
        "outputId": "54e94142-dcb5-42d6-9d0f-30646144d3d4"
      },
      "source": [
        "a = \"Je sais que c'est difficile mais je m'accroche et dans 1 mois je rigolerai de cette introduction à python\"\n",
        "i=0\n",
        "while i in range(0,50) :\n",
        "  i+=1\n",
        "  print(a)\n"
      ],
      "execution_count": 40,
      "outputs": [
        {
          "output_type": "stream",
          "text": [
            "Je sais que c'est difficile mais je m'accroche et dans 1 mois je rigolerai de cette introduction à python\n",
            "Je sais que c'est difficile mais je m'accroche et dans 1 mois je rigolerai de cette introduction à python\n",
            "Je sais que c'est difficile mais je m'accroche et dans 1 mois je rigolerai de cette introduction à python\n",
            "Je sais que c'est difficile mais je m'accroche et dans 1 mois je rigolerai de cette introduction à python\n",
            "Je sais que c'est difficile mais je m'accroche et dans 1 mois je rigolerai de cette introduction à python\n",
            "Je sais que c'est difficile mais je m'accroche et dans 1 mois je rigolerai de cette introduction à python\n",
            "Je sais que c'est difficile mais je m'accroche et dans 1 mois je rigolerai de cette introduction à python\n",
            "Je sais que c'est difficile mais je m'accroche et dans 1 mois je rigolerai de cette introduction à python\n",
            "Je sais que c'est difficile mais je m'accroche et dans 1 mois je rigolerai de cette introduction à python\n",
            "Je sais que c'est difficile mais je m'accroche et dans 1 mois je rigolerai de cette introduction à python\n",
            "Je sais que c'est difficile mais je m'accroche et dans 1 mois je rigolerai de cette introduction à python\n",
            "Je sais que c'est difficile mais je m'accroche et dans 1 mois je rigolerai de cette introduction à python\n",
            "Je sais que c'est difficile mais je m'accroche et dans 1 mois je rigolerai de cette introduction à python\n",
            "Je sais que c'est difficile mais je m'accroche et dans 1 mois je rigolerai de cette introduction à python\n",
            "Je sais que c'est difficile mais je m'accroche et dans 1 mois je rigolerai de cette introduction à python\n",
            "Je sais que c'est difficile mais je m'accroche et dans 1 mois je rigolerai de cette introduction à python\n",
            "Je sais que c'est difficile mais je m'accroche et dans 1 mois je rigolerai de cette introduction à python\n",
            "Je sais que c'est difficile mais je m'accroche et dans 1 mois je rigolerai de cette introduction à python\n",
            "Je sais que c'est difficile mais je m'accroche et dans 1 mois je rigolerai de cette introduction à python\n",
            "Je sais que c'est difficile mais je m'accroche et dans 1 mois je rigolerai de cette introduction à python\n",
            "Je sais que c'est difficile mais je m'accroche et dans 1 mois je rigolerai de cette introduction à python\n",
            "Je sais que c'est difficile mais je m'accroche et dans 1 mois je rigolerai de cette introduction à python\n",
            "Je sais que c'est difficile mais je m'accroche et dans 1 mois je rigolerai de cette introduction à python\n",
            "Je sais que c'est difficile mais je m'accroche et dans 1 mois je rigolerai de cette introduction à python\n",
            "Je sais que c'est difficile mais je m'accroche et dans 1 mois je rigolerai de cette introduction à python\n",
            "Je sais que c'est difficile mais je m'accroche et dans 1 mois je rigolerai de cette introduction à python\n",
            "Je sais que c'est difficile mais je m'accroche et dans 1 mois je rigolerai de cette introduction à python\n",
            "Je sais que c'est difficile mais je m'accroche et dans 1 mois je rigolerai de cette introduction à python\n",
            "Je sais que c'est difficile mais je m'accroche et dans 1 mois je rigolerai de cette introduction à python\n",
            "Je sais que c'est difficile mais je m'accroche et dans 1 mois je rigolerai de cette introduction à python\n",
            "Je sais que c'est difficile mais je m'accroche et dans 1 mois je rigolerai de cette introduction à python\n",
            "Je sais que c'est difficile mais je m'accroche et dans 1 mois je rigolerai de cette introduction à python\n",
            "Je sais que c'est difficile mais je m'accroche et dans 1 mois je rigolerai de cette introduction à python\n",
            "Je sais que c'est difficile mais je m'accroche et dans 1 mois je rigolerai de cette introduction à python\n",
            "Je sais que c'est difficile mais je m'accroche et dans 1 mois je rigolerai de cette introduction à python\n",
            "Je sais que c'est difficile mais je m'accroche et dans 1 mois je rigolerai de cette introduction à python\n",
            "Je sais que c'est difficile mais je m'accroche et dans 1 mois je rigolerai de cette introduction à python\n",
            "Je sais que c'est difficile mais je m'accroche et dans 1 mois je rigolerai de cette introduction à python\n",
            "Je sais que c'est difficile mais je m'accroche et dans 1 mois je rigolerai de cette introduction à python\n",
            "Je sais que c'est difficile mais je m'accroche et dans 1 mois je rigolerai de cette introduction à python\n",
            "Je sais que c'est difficile mais je m'accroche et dans 1 mois je rigolerai de cette introduction à python\n",
            "Je sais que c'est difficile mais je m'accroche et dans 1 mois je rigolerai de cette introduction à python\n",
            "Je sais que c'est difficile mais je m'accroche et dans 1 mois je rigolerai de cette introduction à python\n",
            "Je sais que c'est difficile mais je m'accroche et dans 1 mois je rigolerai de cette introduction à python\n",
            "Je sais que c'est difficile mais je m'accroche et dans 1 mois je rigolerai de cette introduction à python\n",
            "Je sais que c'est difficile mais je m'accroche et dans 1 mois je rigolerai de cette introduction à python\n",
            "Je sais que c'est difficile mais je m'accroche et dans 1 mois je rigolerai de cette introduction à python\n",
            "Je sais que c'est difficile mais je m'accroche et dans 1 mois je rigolerai de cette introduction à python\n",
            "Je sais que c'est difficile mais je m'accroche et dans 1 mois je rigolerai de cette introduction à python\n",
            "Je sais que c'est difficile mais je m'accroche et dans 1 mois je rigolerai de cette introduction à python\n"
          ],
          "name": "stdout"
        }
      ]
    },
    {
      "cell_type": "markdown",
      "metadata": {
        "id": "lZDawCQkGq1l"
      },
      "source": [
        "Écrire une boucle while qui permet d’afficher :\n",
        "- Dans 7 mois je serai une star de la data\n",
        "- Dans 6 mois je serai une star de la data\n",
        "- Dans 5 mois je serai une star de la data\n",
        "- Dans 4 mois je serai une star de la data\n",
        "- Dans 3 mois je serai une star de la data\n",
        "- Dans 2 mois je serai une star de la data\n",
        "- Dans 1 mois je serai une star de la data\n",
        "- Ca y est je suis une star de la data\n"
      ]
    },
    {
      "cell_type": "code",
      "metadata": {
        "id": "pO2R540jGq1l",
        "colab": {
          "base_uri": "https://localhost:8080/"
        },
        "outputId": "4fee411a-cb5b-4b21-f095-95a3b6f815f9"
      },
      "source": [
        "i=8\n",
        "\n",
        "\n",
        "while i in range(8,1,-1):\n",
        "  \n",
        "  i= i-1\n",
        "  print(\"Dans {} mois je serai une star de la data\".format(i))\n",
        "  \n",
        "\n"
      ],
      "execution_count": 61,
      "outputs": [
        {
          "output_type": "stream",
          "text": [
            "Dans 7 mois je serai une star de la data\n",
            "Dans 6 mois je serai une star de la data\n",
            "Dans 5 mois je serai une star de la data\n",
            "Dans 4 mois je serai une star de la data\n",
            "Dans 3 mois je serai une star de la data\n",
            "Dans 2 mois je serai une star de la data\n",
            "Dans 1 mois je serai une star de la data\n"
          ],
          "name": "stdout"
        }
      ]
    },
    {
      "cell_type": "code",
      "metadata": {
        "id": "otM_0mLqGq1m"
      },
      "source": [
        "\n"
      ],
      "execution_count": null,
      "outputs": []
    },
    {
      "cell_type": "code",
      "metadata": {
        "id": "56fFgLovGq1n",
        "outputId": "30375a13-2f65-4559-921c-7c77b4997231"
      },
      "source": [
        "# Avec un break :)\n",
        "\n"
      ],
      "execution_count": null,
      "outputs": [
        {
          "output_type": "stream",
          "text": [
            "Dans 7 mois, je serai une star de la data\n",
            "Dans 6 mois, je serai une star de la data\n",
            "Dans 5 mois, je serai une star de la data\n",
            "Dans 4 mois, je serai une star de la data\n",
            "Dans 3 mois, je serai une star de la data\n",
            "Dans 2 mois, je serai une star de la data\n",
            "Dans 1 mois, je serai une star de la data\n",
            "Ca y est, je suis une star de la data :D\n"
          ],
          "name": "stdout"
        }
      ]
    },
    {
      "cell_type": "markdown",
      "metadata": {
        "id": "Ko8GPBvVGq1n"
      },
      "source": [
        "- Initialisez deux entiers : a = 0 et b = 10.\n",
        "- Écrire une boucle affichant et incrémentant de 1 la valeur de a tant qu’elle reste inférieure à celle de b (qui decremente de 1 à chaque tour).\n",
        "- Écrire une autre boucle décrémentant la valeur de b et affichant sa valeur si elle est\n",
        "impaire. Boucler tant que b n’est pas nul."
      ]
    },
    {
      "cell_type": "code",
      "metadata": {
        "id": "Z_V0oskNGq1n",
        "outputId": "95183e59-c73b-446f-ad72-3e9a57bee661"
      },
      "source": [
        "\n"
      ],
      "execution_count": null,
      "outputs": [
        {
          "output_type": "stream",
          "text": [
            "a: 0\n",
            "b: 10\n",
            "a: 1\n",
            "b: 9\n",
            "a: 2\n",
            "b: 8\n",
            "a: 3\n",
            "b: 7\n",
            "a: 4\n",
            "b: 6\n",
            "a: 5\n",
            "b: 5\n"
          ],
          "name": "stdout"
        }
      ]
    },
    {
      "cell_type": "code",
      "metadata": {
        "id": "VroObP4TGq1o",
        "outputId": "654e7fa5-7d1c-40d5-acb2-c8d2c1adc086"
      },
      "source": [
        ""
      ],
      "execution_count": null,
      "outputs": [
        {
          "output_type": "stream",
          "text": [
            "9\n",
            "7\n",
            "5\n",
            "3\n",
            "1\n"
          ],
          "name": "stdout"
        }
      ]
    },
    {
      "cell_type": "markdown",
      "metadata": {
        "id": "eio6ttVPGq1o"
      },
      "source": [
        "- Affichez chaque caractère d’une chaîne en utilisant une boucle for (ex: anticonstitutionnellement)\n",
        "- Affichez chaque élément d’une liste en utilisant une boucle for (par exemple la liste des prénoms de la promo)"
      ]
    },
    {
      "cell_type": "code",
      "metadata": {
        "scrolled": true,
        "id": "_s7TPSvFGq1o",
        "outputId": "f5cff9e5-31e2-40ff-ac05-50b7769eb1e0"
      },
      "source": [
        "s='anticonstitutionnellement'\n"
      ],
      "execution_count": null,
      "outputs": [
        {
          "output_type": "stream",
          "text": [
            "a\n",
            "n\n",
            "t\n",
            "i\n",
            "c\n",
            "o\n",
            "n\n",
            "s\n",
            "t\n",
            "i\n",
            "t\n",
            "u\n",
            "t\n",
            "i\n",
            "o\n",
            "n\n",
            "n\n",
            "e\n",
            "l\n",
            "l\n",
            "e\n",
            "m\n",
            "e\n",
            "n\n",
            "t\n"
          ],
          "name": "stdout"
        }
      ]
    },
    {
      "cell_type": "code",
      "metadata": {
        "id": "1wrNKyWBGq1p",
        "outputId": "6fb34377-991e-4ea4-dc27-6913ff577bbf"
      },
      "source": [
        "l=['Alain',\t\t\t\t\t\t\n",
        "'Soulaïma',\t\t\t\t\t\t\n",
        "'Karim',\t\t\t\t\t\t\n",
        "'Mariana',\t\t\t\t\t\t\n",
        "'Vanisha',\t\t\t\t\t\t\n",
        "'Steven',\t\t\t\t\t\t\n",
        "'Lochlain',\t\t\t\t\t\t\n",
        "'Bilal',\t\t\t\t\t\t\n",
        "'Kamel',\t\t\t\t\t\t\n",
        "'Théophile',\t\t\t\t\t\t\n",
        "'Jean Michel',\t\t\t\t\t\t\n",
        "'Richard',\t\t\t\t\t\t\n",
        "'Elise',\t\t\t\t\t\t\n",
        "'Oumar',\t\t\t\t\t\t\n",
        "'Ahrieane',\t\t\t\t\t\t\n",
        "'Tashi',\t\t\t\t\t\t\n",
        "'nicolas']\t\t\t\t\t\n",
        "\n",
        "\n"
      ],
      "execution_count": null,
      "outputs": [
        {
          "output_type": "stream",
          "text": [
            "Alain\n",
            "Soulaïma\n",
            "Karim\n",
            "Mariana\n",
            "Vanisha\n",
            "Steven\n",
            "Lochlain\n",
            "Bilal\n",
            "Kamel\n",
            "Théophile\n",
            "Jean Michel\n",
            "Richard\n",
            "Elise\n",
            "Oumar\n",
            "Ahrieane\n",
            "Tashi\n",
            "nicolas\n"
          ],
          "name": "stdout"
        }
      ]
    },
    {
      "cell_type": "markdown",
      "metadata": {
        "id": "Fm1F4IQ1Gq1p"
      },
      "source": [
        "Écrire un programme qui affiche les nombres de 2 en 2 jusqu’à 100 avec un for puis avec un while"
      ]
    },
    {
      "cell_type": "code",
      "metadata": {
        "id": "IEnUzlZRGq1p"
      },
      "source": [
        ""
      ],
      "execution_count": null,
      "outputs": []
    },
    {
      "cell_type": "code",
      "metadata": {
        "scrolled": true,
        "id": "kJ07-qfGGq1p",
        "outputId": "6c536afd-adf8-4a16-dad3-aa0d0b9d61bf"
      },
      "source": [
        ""
      ],
      "execution_count": null,
      "outputs": [
        {
          "output_type": "stream",
          "text": [
            "0\n",
            "2\n",
            "4\n",
            "6\n",
            "8\n",
            "10\n",
            "12\n",
            "14\n",
            "16\n",
            "18\n",
            "20\n",
            "22\n",
            "24\n",
            "26\n",
            "28\n",
            "30\n",
            "32\n",
            "34\n",
            "36\n",
            "38\n",
            "40\n",
            "42\n",
            "44\n",
            "46\n",
            "48\n",
            "50\n",
            "52\n",
            "54\n",
            "56\n",
            "58\n",
            "60\n",
            "62\n",
            "64\n",
            "66\n",
            "68\n",
            "70\n",
            "72\n",
            "74\n",
            "76\n",
            "78\n",
            "80\n",
            "82\n",
            "84\n",
            "86\n",
            "88\n",
            "90\n",
            "92\n",
            "94\n",
            "96\n",
            "98\n"
          ],
          "name": "stdout"
        }
      ]
    },
    {
      "cell_type": "markdown",
      "metadata": {
        "id": "vTV-BzGeGq1p"
      },
      "source": [
        "Affichez les entiers de 0 à 15 non compris, de trois en trois, en utilisant une boucle for\n",
        "et l’instruction range()."
      ]
    },
    {
      "cell_type": "code",
      "metadata": {
        "id": "ccmctZsCGq1q",
        "outputId": "0b622411-1d8d-4d4b-b599-1276315b9886"
      },
      "source": [
        ""
      ],
      "execution_count": null,
      "outputs": [
        {
          "output_type": "stream",
          "text": [
            "0\n",
            "3\n",
            "6\n",
            "9\n",
            "12\n",
            "15\n"
          ],
          "name": "stdout"
        }
      ]
    },
    {
      "cell_type": "code",
      "metadata": {
        "id": "tOkoq1lxGq1q",
        "outputId": "b5bb2f7a-2de6-4f79-8d4f-b67e9f744cad"
      },
      "source": [
        "\n"
      ],
      "execution_count": null,
      "outputs": [
        {
          "output_type": "stream",
          "text": [
            "0\n",
            "3\n",
            "6\n",
            "9\n",
            "12\n",
            "15\n"
          ],
          "name": "stdout"
        }
      ]
    },
    {
      "cell_type": "markdown",
      "metadata": {
        "id": "ugayTs7RGq1q"
      },
      "source": [
        "### Les listes"
      ]
    },
    {
      "cell_type": "code",
      "metadata": {
        "id": "CWOaqI-bGq1q"
      },
      "source": [
        "liste_animaux = [\"lapin\",\"chat\", \"chien\", \"chiot\", \"dragon\", \"ornithorynque\"]"
      ],
      "execution_count": null,
      "outputs": []
    },
    {
      "cell_type": "markdown",
      "metadata": {
        "id": "6jmcoE-5Gq1r"
      },
      "source": [
        "Écrire un programme, qui donne le nombre de caractères de chaque élément de la\n",
        "liste.\n",
        "\n",
        "Exemple : lapin possède 5 caractères."
      ]
    },
    {
      "cell_type": "code",
      "metadata": {
        "id": "GriYQN6HGq1r",
        "outputId": "c3068749-2ef4-46c1-9204-d008be658c28"
      },
      "source": [
        ""
      ],
      "execution_count": null,
      "outputs": [
        {
          "output_type": "stream",
          "text": [
            "lapin possède 5 caractères.\n",
            "chat possède 4 caractères.\n",
            "chien possède 5 caractères.\n",
            "chiot possède 5 caractères.\n",
            "dragon possède 6 caractères.\n",
            "ornithorynque possède 13 caractères.\n"
          ],
          "name": "stdout"
        }
      ]
    },
    {
      "cell_type": "markdown",
      "metadata": {
        "id": "UOH50zAQGq1s"
      },
      "source": [
        "Écrire un programme qui initialise la liste des animaux et qui affiche l’ensemble des éléments.\n",
        "\n",
        "Attention si un element est supérieur a une longueur supérieure à 5 caracteres affichez une alerte du type \"Attention derriere toi !\""
      ]
    },
    {
      "cell_type": "code",
      "metadata": {
        "id": "VoYTdhyoGq1s",
        "outputId": "faa96770-b8c3-48a5-c5fe-35b7fa090c4f"
      },
      "source": [
        "liste_animaux = [\"lapin\",\"chat\", \"chien\", \"chiot\", \"dragon\", \"ornithorynque\"]\n",
        "\n"
      ],
      "execution_count": null,
      "outputs": [
        {
          "output_type": "stream",
          "text": [
            "lapin\n",
            "chat\n",
            "chien\n",
            "chiot\n",
            "Protect Your Back! -_-\n",
            "Protect Your Back! -_-\n"
          ],
          "name": "stdout"
        }
      ]
    }
  ]
}